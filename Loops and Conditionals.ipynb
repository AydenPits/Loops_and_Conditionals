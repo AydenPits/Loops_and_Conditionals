{
 "cells": [
  {
   "cell_type": "markdown",
   "metadata": {},
   "source": [
    "4.1"
   ]
  },
  {
   "cell_type": "code",
   "execution_count": 8,
   "metadata": {},
   "outputs": [
    {
     "name": "stdout",
     "output_type": "stream",
     "text": [
      "too low\n"
     ]
    }
   ],
   "source": [
    "secret = 6\n",
    "\n",
    "guess = 3\n",
    "\n",
    "if guess > secret:\n",
    "    print(\"too high\")\n",
    "elif guess < secret:\n",
    "    print(\"too low\")\n",
    "elif guess == secret:\n",
    "    print(\"just right\")"
   ]
  },
  {
   "cell_type": "markdown",
   "metadata": {},
   "source": [
    "4.2"
   ]
  },
  {
   "cell_type": "code",
   "execution_count": 17,
   "metadata": {},
   "outputs": [
    {
     "name": "stdout",
     "output_type": "stream",
     "text": [
      "watermelon\n"
     ]
    }
   ],
   "source": [
    "small = False\n",
    "\n",
    "green = True\n",
    "\n",
    "if small*green:\n",
    "    print(\"pea\")\n",
    "elif (not small) *green:\n",
    "    print(\"watermelon\")\n",
    "elif (not green) *small:\n",
    "    print(\"cherry\")\n",
    "elif not green*small:\n",
    "    print(\"pumpkin\")"
   ]
  },
  {
   "cell_type": "markdown",
   "metadata": {},
   "source": [
    "6.1"
   ]
  },
  {
   "cell_type": "code",
   "execution_count": 20,
   "metadata": {},
   "outputs": [
    {
     "name": "stdout",
     "output_type": "stream",
     "text": [
      "3\n",
      "2\n",
      "1\n",
      "0\n"
     ]
    }
   ],
   "source": [
    "sequence = [3, 2, 1, 0]\n",
    "\n",
    "for int in sequence:\n",
    "    print(int)"
   ]
  },
  {
   "cell_type": "markdown",
   "metadata": {},
   "source": [
    "6.2"
   ]
  },
  {
   "cell_type": "code",
   "execution_count": 12,
   "metadata": {},
   "outputs": [
    {
     "name": "stdout",
     "output_type": "stream",
     "text": [
      "too low\n",
      "too low\n",
      "too low\n",
      "oops\n"
     ]
    }
   ],
   "source": [
    "guess_me = 7\n",
    "\n",
    "number = 1\n",
    "\n",
    "while number < guess_me:\n",
    "    print(\"too low\")  \n",
    "    number += 1  \n",
    "    if number == guess_me:\n",
    "        print(\"found it\")\n",
    "        break\n",
    "    if number > guess_me:\n",
    "        print(\"oops\")\n",
    "        break\n",
    "  \n"
   ]
  },
  {
   "cell_type": "markdown",
   "metadata": {},
   "source": [
    "6.3"
   ]
  },
  {
   "cell_type": "code",
   "execution_count": 15,
   "metadata": {},
   "outputs": [
    {
     "name": "stdout",
     "output_type": "stream",
     "text": [
      "too low\n",
      "too low\n",
      "too low\n",
      "too low\n",
      "too low\n",
      "found it\n"
     ]
    }
   ],
   "source": [
    "guess_me = 5\n",
    "\n",
    "\n",
    "\n",
    "for number in range(10):\n",
    "    if number < guess_me:\n",
    "        print(\"too low\")\n",
    "    if number == guess_me:\n",
    "        print(\"found it\")\n",
    "        break\n",
    "    if number > guess_me:\n",
    "        print(\"oops\")\n",
    "        break"
   ]
  }
 ],
 "metadata": {
  "kernelspec": {
   "display_name": "Python 3.10.4 64-bit",
   "language": "python",
   "name": "python3"
  },
  "language_info": {
   "codemirror_mode": {
    "name": "ipython",
    "version": 3
   },
   "file_extension": ".py",
   "mimetype": "text/x-python",
   "name": "python",
   "nbconvert_exporter": "python",
   "pygments_lexer": "ipython3",
   "version": "3.10.4"
  },
  "orig_nbformat": 4,
  "vscode": {
   "interpreter": {
    "hash": "d1fc306883a8effd3c7a791eb038dca80f133d1388b37be464360b229b219df9"
   }
  }
 },
 "nbformat": 4,
 "nbformat_minor": 2
}
